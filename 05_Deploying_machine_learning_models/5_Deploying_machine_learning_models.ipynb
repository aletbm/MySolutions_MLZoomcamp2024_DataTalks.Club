{
  "nbformat": 4,
  "nbformat_minor": 0,
  "metadata": {
    "colab": {
      "provenance": [],
      "authorship_tag": "ABX9TyPkxQwplH20lwyx5npzPFOS",
      "include_colab_link": true
    },
    "kernelspec": {
      "name": "python3",
      "display_name": "Python 3"
    },
    "language_info": {
      "name": "python"
    }
  },
  "cells": [
    {
      "cell_type": "markdown",
      "metadata": {
        "id": "view-in-github",
        "colab_type": "text"
      },
      "source": [
        "<a href=\"https://colab.research.google.com/github/aletbm/MySolutions_MLZoomcamp2024_DataTalks.Club/blob/main/05_Deploying_machine_learning_models/5_Deploying_machine_learning_models.ipynb\" target=\"_parent\"><img src=\"https://colab.research.google.com/assets/colab-badge.svg\" alt=\"Open In Colab\"/></a>"
      ]
    },
    {
      "cell_type": "markdown",
      "source": [
        "# 5th week's homework - by [Alexander Daniel Rios](https://linktr.ee/aletbm)"
      ],
      "metadata": {
        "id": "SjONttxOlEIY"
      }
    },
    {
      "cell_type": "markdown",
      "source": [
        "# Question 1\n",
        "+ Install Pipenv\n",
        "+ What's the version of pipenv you installed?\n",
        "+ Use `--version` to find out\n",
        "\n",
        ">Note: you should create an empty folder for homework and do it there.\n",
        "\n"
      ],
      "metadata": {
        "id": "V45wFv8MlaqV"
      }
    },
    {
      "cell_type": "code",
      "execution_count": null,
      "metadata": {
        "colab": {
          "base_uri": "https://localhost:8080/"
        },
        "id": "7SFQnBN9lDGB",
        "outputId": "152c4b34-fc65-4e5e-8184-1806f8f4b2d7"
      },
      "outputs": [
        {
          "output_type": "stream",
          "name": "stdout",
          "text": [
            "Requirement already satisfied: pipenv in /usr/local/lib/python3.10/dist-packages (2024.2.0)\n",
            "Requirement already satisfied: certifi in /usr/local/lib/python3.10/dist-packages (from pipenv) (2024.8.30)\n",
            "Requirement already satisfied: packaging>=22 in /usr/local/lib/python3.10/dist-packages (from pipenv) (24.1)\n",
            "Requirement already satisfied: setuptools>=67 in /usr/local/lib/python3.10/dist-packages (from pipenv) (75.1.0)\n",
            "Requirement already satisfied: virtualenv>=20.24.2 in /usr/local/lib/python3.10/dist-packages (from pipenv) (20.27.1)\n",
            "Requirement already satisfied: distlib<1,>=0.3.7 in /usr/local/lib/python3.10/dist-packages (from virtualenv>=20.24.2->pipenv) (0.3.9)\n",
            "Requirement already satisfied: filelock<4,>=3.12.2 in /usr/local/lib/python3.10/dist-packages (from virtualenv>=20.24.2->pipenv) (3.16.1)\n",
            "Requirement already satisfied: platformdirs<5,>=3.9.1 in /usr/local/lib/python3.10/dist-packages (from virtualenv>=20.24.2->pipenv) (4.3.6)\n"
          ]
        }
      ],
      "source": [
        "!pip install pipenv"
      ]
    },
    {
      "cell_type": "code",
      "source": [
        "!pipenv --version"
      ],
      "metadata": {
        "colab": {
          "base_uri": "https://localhost:8080/"
        },
        "id": "ZvE8AYdcmMvN",
        "outputId": "b8962466-c169-44ce-f838-7af6a6bc08f6"
      },
      "execution_count": null,
      "outputs": [
        {
          "output_type": "stream",
          "name": "stdout",
          "text": [
            "\u001b[1mpipenv\u001b[0m, version 2024.2.0\n"
          ]
        }
      ]
    },
    {
      "cell_type": "markdown",
      "source": [
        "# Question 2\n",
        "+ Use Pipenv to install Scikit-Learn version 1.5.2\n",
        "+ What's the first hash for scikit-learn you get in Pipfile.lock?\n",
        "> Note: you should create an empty folder for homework and do it there."
      ],
      "metadata": {
        "id": "VuXdFNyv8rei"
      }
    },
    {
      "cell_type": "code",
      "source": [
        "!pipenv install scikit-learn==1.5.2"
      ],
      "metadata": {
        "colab": {
          "base_uri": "https://localhost:8080/"
        },
        "id": "gZZYLiHj8q3Q",
        "outputId": "3b343e2a-0282-41d6-83b3-713dddf1a008"
      },
      "execution_count": null,
      "outputs": [
        {
          "output_type": "stream",
          "name": "stdout",
          "text": [
            "\u001b[1mCreating a virtualenv for this project\u001b[0m\n",
            "Pipfile: \u001b[1;33m/content/\u001b[0m\u001b[1;33mPipfile\u001b[0m\n",
            "\u001b[1mUsing default python from\u001b[0m \u001b[1;33m/usr/bin/\u001b[0m\u001b[1;33mpython3\u001b[0m\u001b[32m3.10.12\u001b[0m\u001b[32m \u001b[0m\u001b[1;32mto create virtualenv\u001b[0m\u001b[1;32m...\u001b[0m\n",
            "\u001b[2K\u001b[32m⠏\u001b[0m Creating virtual environment...\u001b[36mcreated virtual environment CPython3.\u001b[0m\u001b[1;36m10.12\u001b[0m\u001b[36m.final.\u001b[0m\u001b[1;36m0\u001b[0m\u001b[36m-\u001b[0m\u001b[1;36m64\u001b[0m\u001b[36m in 1397ms\u001b[0m\n",
            "\u001b[36m  creator \u001b[0m\u001b[1;36mCPython3Posix\u001b[0m\u001b[1;36m(\u001b[0m\u001b[36mdest\u001b[0m\u001b[36m=\u001b[0m\u001b[36m/root/.local/share/virtualenvs/\u001b[0m\u001b[36mcontent-cQIIIOO2\u001b[0m\u001b[36m, \u001b[0m\u001b[36mclear\u001b[0m\u001b[36m=\u001b[0m\u001b[3;36mFalse\u001b[0m\u001b[36m, \u001b[0m\n",
            "\u001b[36mno_vcs_ignore\u001b[0m\u001b[36m=\u001b[0m\u001b[3;36mFalse\u001b[0m\u001b[36m, \u001b[0m\u001b[36mglobal\u001b[0m\u001b[36m=\u001b[0m\u001b[3;36mFalse\u001b[0m\u001b[1;36m)\u001b[0m\n",
            "\u001b[36m  seeder \u001b[0m\u001b[1;36mFromAppData\u001b[0m\u001b[1;36m(\u001b[0m\u001b[36mdownload\u001b[0m\u001b[36m=\u001b[0m\u001b[3;36mFalse\u001b[0m\u001b[36m, \u001b[0m\u001b[36mpip\u001b[0m\u001b[36m=\u001b[0m\u001b[36mbundle\u001b[0m\u001b[36m, \u001b[0m\u001b[36msetuptools\u001b[0m\u001b[36m=\u001b[0m\u001b[36mbundle\u001b[0m\u001b[36m, \u001b[0m\u001b[36mwheel\u001b[0m\u001b[36m=\u001b[0m\u001b[36mbundle\u001b[0m\u001b[36m, \u001b[0m\u001b[36mvia\u001b[0m\u001b[36m=\u001b[0m\u001b[36mcopy\u001b[0m\u001b[36m, \u001b[0m\n",
            "\u001b[36mapp_data_dir\u001b[0m\u001b[36m=\u001b[0m\u001b[36m/root/.local/share/\u001b[0m\u001b[36mvirtualenv\u001b[0m\u001b[1;36m)\u001b[0m\n",
            "\u001b[36m    added seed packages: \u001b[0m\u001b[36mpip\u001b[0m\u001b[36m==\u001b[0m\u001b[1;36m24.3\u001b[0m\u001b[36m.\u001b[0m\u001b[1;36m1\u001b[0m\u001b[36m, \u001b[0m\u001b[36msetuptools\u001b[0m\u001b[36m==\u001b[0m\u001b[1;36m75.2\u001b[0m\u001b[36m.\u001b[0m\u001b[1;36m0\u001b[0m\u001b[36m, \u001b[0m\u001b[36mwheel\u001b[0m\u001b[36m==\u001b[0m\u001b[1;36m0.44\u001b[0m\u001b[36m.\u001b[0m\u001b[1;36m0\u001b[0m\n",
            "\u001b[36m  activators \u001b[0m\n",
            "\u001b[36mBashActivator,CShellActivator,FishActivator,NushellActivator,PowerShellActivator,PythonActivator\u001b[0m\n",
            "\n",
            "✔ Successfully created virtual environment!\n",
            "\u001b[2K\u001b[32m⠏\u001b[0m Creating virtual environment...\n",
            "\u001b[1A\u001b[2K\u001b[32mVirtualenv location: \u001b[0m\u001b[32m/root/.local/share/virtualenvs/\u001b[0m\u001b[32mcontent-cQIIIOO2\u001b[0m\n",
            "\u001b[1mCreating a Pipfile for this project\u001b[0m\u001b[1;33m...\u001b[0m\n",
            "\u001b[1mPipfile.lock not found, creating\u001b[0m\u001b[1;33m...\u001b[0m\n",
            "Locking\u001b[0m \u001b[33m[packages]\u001b[0m dependencies...\u001b[0m\n",
            "Locking\u001b[0m \u001b[33m[dev-packages]\u001b[0m dependencies...\u001b[0m\n",
            "\u001b[1mUpdated Pipfile.lock (fedbd2ab7afd84cf16f128af0619749267b62277b4cb6989ef16d4bef6e4eef2)!\u001b[0m\n",
            "To activate this project's virtualenv, run \u001b[33mpipenv shell\u001b[0m.\n",
            "Alternatively, run a command inside the virtualenv with \u001b[33mpipenv run\u001b[0m.\n",
            "\u001b[1;32mInstalling scikit-learn==1.5.2...\u001b[0m\n",
            "✔ Installation Succeeded\n",
            "\u001b[?25lBuilding requirements...\n",
            "\u001b[2KResolving dependencies...\n",
            "\u001b[2K✔ Success!\n",
            "\u001b[2K\u001b[32m⠦\u001b[0m Locking packages...\n",
            "\u001b[1A\u001b[2K\u001b[?25lBuilding requirements...\n",
            "\u001b[2KResolving dependencies...\n",
            "\u001b[2K✔ Success!\n",
            "\u001b[2K\u001b[32m⠇\u001b[0m Locking packages...\n",
            "\u001b[1A\u001b[2KTo activate this project's virtualenv, run \u001b[33mpipenv shell\u001b[0m.\n",
            "Alternatively, run a command inside the virtualenv with \u001b[33mpipenv run\u001b[0m.\n",
            "\u001b[1mInstalling dependencies from Pipfile.lock (0b43dd)...\u001b[0m\n",
            "\u001b[32mAll dependencies are now up-to-date!\u001b[0m\n",
            "\u001b[1mInstalling dependencies from Pipfile.lock (0b43dd)...\u001b[0m\n"
          ]
        }
      ]
    },
    {
      "cell_type": "code",
      "source": [
        "file = open(\"/content/Pipfile.lock\", \"r\")\n",
        "content = file.read()\n",
        "print(content)\n",
        "file.close()"
      ],
      "metadata": {
        "colab": {
          "base_uri": "https://localhost:8080/"
        },
        "id": "2X09zwKG9GPo",
        "outputId": "7d764c0f-41f8-4449-a9a5-c36eefc048d5"
      },
      "execution_count": null,
      "outputs": [
        {
          "output_type": "stream",
          "name": "stdout",
          "text": [
            "{\n",
            "    \"_meta\": {\n",
            "        \"hash\": {\n",
            "            \"sha256\": \"dd888bf29237b1b0220d56230d97bb0c50d6abc3ae64665667d1fe2d150b43dd\"\n",
            "        },\n",
            "        \"pipfile-spec\": 6,\n",
            "        \"requires\": {\n",
            "            \"python_version\": \"3.10\"\n",
            "        },\n",
            "        \"sources\": [\n",
            "            {\n",
            "                \"name\": \"pypi\",\n",
            "                \"url\": \"https://pypi.org/simple\",\n",
            "                \"verify_ssl\": true\n",
            "            }\n",
            "        ]\n",
            "    },\n",
            "    \"default\": {\n",
            "        \"joblib\": {\n",
            "            \"hashes\": [\n",
            "                \"sha256:06d478d5674cbc267e7496a410ee875abd68e4340feff4490bcb7afb88060ae6\",\n",
            "                \"sha256:2382c5816b2636fbd20a09e0f4e9dad4736765fdfb7dca582943b9c1366b3f0e\"\n",
            "            ],\n",
            "            \"markers\": \"python_version >= '3.8'\",\n",
            "            \"version\": \"==1.4.2\"\n",
            "        },\n",
            "        \"numpy\": {\n",
            "            \"hashes\": [\n",
            "                \"sha256:05b2d4e667895cc55e3ff2b56077e4c8a5604361fc21a042845ea3ad67465aa8\",\n",
            "                \"sha256:12edb90831ff481f7ef5f6bc6431a9d74dc0e5ff401559a71e5e4611d4f2d466\",\n",
            "                \"sha256:13311c2db4c5f7609b462bc0f43d3c465424d25c626d95040f073e30f7570e35\",\n",
            "                \"sha256:13532a088217fa624c99b843eeb54640de23b3414b14aa66d023805eb731066c\",\n",
            "                \"sha256:13602b3174432a35b16c4cfb5de9a12d229727c3dd47a6ce35111f2ebdf66ff4\",\n",
            "                \"sha256:1600068c262af1ca9580a527d43dc9d959b0b1d8e56f8a05d830eea39b7c8af6\",\n",
            "                \"sha256:1b8cde4f11f0a975d1fd59373b32e2f5a562ade7cde4f85b7137f3de8fbb29a0\",\n",
            "                \"sha256:1c193d0b0238638e6fc5f10f1b074a6993cb13b0b431f64079a509d63d3aa8b7\",\n",
            "                \"sha256:1ebec5fd716c5a5b3d8dfcc439be82a8407b7b24b230d0ad28a81b61c2f4659a\",\n",
            "                \"sha256:242b39d00e4944431a3cd2db2f5377e15b5785920421993770cddb89992c3f3a\",\n",
            "                \"sha256:259ec80d54999cc34cd1eb8ded513cb053c3bf4829152a2e00de2371bd406f5e\",\n",
            "                \"sha256:2abbf905a0b568706391ec6fa15161fad0fb5d8b68d73c461b3c1bab6064dd62\",\n",
            "                \"sha256:2cbba4b30bf31ddbe97f1c7205ef976909a93a66bb1583e983adbd155ba72ac2\",\n",
            "                \"sha256:2ffef621c14ebb0188a8633348504a35c13680d6da93ab5cb86f4e54b7e922b5\",\n",
            "                \"sha256:30d53720b726ec36a7f88dc873f0eec8447fbc93d93a8f079dfac2629598d6ee\",\n",
            "                \"sha256:32e16a03138cabe0cb28e1007ee82264296ac0983714094380b408097a418cfe\",\n",
            "                \"sha256:43cca367bf94a14aca50b89e9bc2061683116cfe864e56740e083392f533ce7a\",\n",
            "                \"sha256:456e3b11cb79ac9946c822a56346ec80275eaf2950314b249b512896c0d2505e\",\n",
            "                \"sha256:4d6ec0d4222e8ffdab1744da2560f07856421b367928026fb540e1945f2eeeaf\",\n",
            "                \"sha256:5006b13a06e0b38d561fab5ccc37581f23c9511879be7693bd33c7cd15ca227c\",\n",
            "                \"sha256:675c741d4739af2dc20cd6c6a5c4b7355c728167845e3c6b0e824e4e5d36a6c3\",\n",
            "                \"sha256:6cdb606a7478f9ad91c6283e238544451e3a95f30fb5467fbf715964341a8a86\",\n",
            "                \"sha256:6d95f286b8244b3649b477ac066c6906fbb2905f8ac19b170e2175d3d799f4df\",\n",
            "                \"sha256:76322dcdb16fccf2ac56f99048af32259dcc488d9b7e25b51e5eca5147a3fb98\",\n",
            "                \"sha256:7c1c60328bd964b53f8b835df69ae8198659e2b9302ff9ebb7de4e5a5994db3d\",\n",
            "                \"sha256:860ec6e63e2c5c2ee5e9121808145c7bf86c96cca9ad396c0bd3e0f2798ccbe2\",\n",
            "                \"sha256:8e00ea6fc82e8a804433d3e9cedaa1051a1422cb6e443011590c14d2dea59146\",\n",
            "                \"sha256:9c6c754df29ce6a89ed23afb25550d1c2d5fdb9901d9c67a16e0b16eaf7e2550\",\n",
            "                \"sha256:a26ae94658d3ba3781d5e103ac07a876b3e9b29db53f68ed7df432fd033358a8\",\n",
            "                \"sha256:a65acfdb9c6ebb8368490dbafe83c03c7e277b37e6857f0caeadbbc56e12f4fb\",\n",
            "                \"sha256:a7d80b2e904faa63068ead63107189164ca443b42dd1930299e0d1cb041cec2e\",\n",
            "                \"sha256:a84498e0d0a1174f2b3ed769b67b656aa5460c92c9554039e11f20a05650f00d\",\n",
            "                \"sha256:ab4754d432e3ac42d33a269c8567413bdb541689b02d93788af4131018cbf366\",\n",
            "                \"sha256:ad369ed238b1959dfbade9018a740fb9392c5ac4f9b5173f420bd4f37ba1f7a0\",\n",
            "                \"sha256:b1d0fcae4f0949f215d4632be684a539859b295e2d0cb14f78ec231915d644db\",\n",
            "                \"sha256:b42a1a511c81cc78cbc4539675713bbcf9d9c3913386243ceff0e9429ca892fe\",\n",
            "                \"sha256:bd33f82e95ba7ad632bc57837ee99dba3d7e006536200c4e9124089e1bf42426\",\n",
            "                \"sha256:bdd407c40483463898b84490770199d5714dcc9dd9b792f6c6caccc523c00952\",\n",
            "                \"sha256:c6eef7a2dbd0abfb0d9eaf78b73017dbfd0b54051102ff4e6a7b2980d5ac1a03\",\n",
            "                \"sha256:c82af4b2ddd2ee72d1fc0c6695048d457e00b3582ccde72d8a1c991b808bb20f\",\n",
            "                \"sha256:d666cb72687559689e9906197e3bec7b736764df6a2e58ee265e360663e9baf7\",\n",
            "                \"sha256:d7bf0a4f9f15b32b5ba53147369e94296f5fffb783db5aacc1be15b4bf72f43b\",\n",
            "                \"sha256:d82075752f40c0ddf57e6e02673a17f6cb0f8eb3f587f63ca1eaab5594da5b17\",\n",
            "                \"sha256:da65fb46d4cbb75cb417cddf6ba5e7582eb7bb0b47db4b99c9fe5787ce5d91f5\",\n",
            "                \"sha256:e2b49c3c0804e8ecb05d59af8386ec2f74877f7ca8fd9c1e00be2672e4d399b1\",\n",
            "                \"sha256:e585c8ae871fd38ac50598f4763d73ec5497b0de9a0ab4ef5b69f01c6a046142\",\n",
            "                \"sha256:e8d3ca0a72dd8846eb6f7dfe8f19088060fcb76931ed592d29128e0219652884\",\n",
            "                \"sha256:ef444c57d664d35cac4e18c298c47d7b504c66b17c2ea91312e979fcfbdfb08a\",\n",
            "                \"sha256:f1eb068ead09f4994dec71c24b2844f1e4e4e013b9629f812f292f04bd1510d9\",\n",
            "                \"sha256:f2ded8d9b6f68cc26f8425eda5d3877b47343e68ca23d0d0846f4d312ecaa445\",\n",
            "                \"sha256:f751ed0a2f250541e19dfca9f1eafa31a392c71c832b6bb9e113b10d050cb0f1\",\n",
            "                \"sha256:faa88bc527d0f097abdc2c663cddf37c05a1c2f113716601555249805cf573f1\",\n",
            "                \"sha256:fc44e3c68ff00fd991b59092a54350e6e4911152682b4782f68070985aa9e648\"\n",
            "            ],\n",
            "            \"markers\": \"python_version >= '3.10'\",\n",
            "            \"version\": \"==2.1.2\"\n",
            "        },\n",
            "        \"scikit-learn\": {\n",
            "            \"hashes\": [\n",
            "                \"sha256:03b6158efa3faaf1feea3faa884c840ebd61b6484167c711548fce208ea09445\",\n",
            "                \"sha256:178ddd0a5cb0044464fc1bfc4cca5b1833bfc7bb022d70b05db8530da4bb3dd3\",\n",
            "                \"sha256:1ff45e26928d3b4eb767a8f14a9a6efbf1cbff7c05d1fb0f95f211a89fd4f5de\",\n",
            "                \"sha256:299406827fb9a4f862626d0fe6c122f5f87f8910b86fe5daa4c32dcd742139b6\",\n",
            "                \"sha256:2d4cad1119c77930b235579ad0dc25e65c917e756fe80cab96aa3b9428bd3fb0\",\n",
            "                \"sha256:394397841449853c2290a32050382edaec3da89e35b3e03d6cc966aebc6a8ae6\",\n",
            "                \"sha256:3a686885a4b3818d9e62904d91b57fa757fc2bed3e465c8b177be652f4dd37c8\",\n",
            "                \"sha256:3b923d119d65b7bd555c73be5423bf06c0105678ce7e1f558cb4b40b0a5502b1\",\n",
            "                \"sha256:3bed4909ba187aca80580fe2ef370d9180dcf18e621a27c4cf2ef10d279a7efe\",\n",
            "                \"sha256:52788f48b5d8bca5c0736c175fa6bdaab2ef00a8f536cda698db61bd89c551c1\",\n",
            "                \"sha256:57cc1786cfd6bd118220a92ede80270132aa353647684efa385a74244a41e3b1\",\n",
            "                \"sha256:643964678f4b5fbdc95cbf8aec638acc7aa70f5f79ee2cdad1eec3df4ba6ead8\",\n",
            "                \"sha256:6c16d84a0d45e4894832b3c4d0bf73050939e21b99b01b6fd59cbb0cf39163b6\",\n",
            "                \"sha256:757c7d514ddb00ae249832fe87100d9c73c6ea91423802872d9e74970a0e40b9\",\n",
            "                \"sha256:8c412ccc2ad9bf3755915e3908e677b367ebc8d010acbb3f182814524f2e5540\",\n",
            "                \"sha256:b0768ad641981f5d3a198430a1d31c3e044ed2e8a6f22166b4d546a5116d7908\",\n",
            "                \"sha256:b4237ed7b3fdd0a4882792e68ef2545d5baa50aca3bb45aa7df468138ad8f94d\",\n",
            "                \"sha256:b7b0f9a0b1040830d38c39b91b3a44e1b643f4b36e36567b80b7c6bd2202a27f\",\n",
            "                \"sha256:c15b1ca23d7c5f33cc2cb0a0d6aaacf893792271cddff0edbd6a40e8319bc113\",\n",
            "                \"sha256:ca64b3089a6d9b9363cd3546f8978229dcbb737aceb2c12144ee3f70f95684b7\",\n",
            "                \"sha256:e9a702e2de732bbb20d3bad29ebd77fc05a6b427dc49964300340e4c9328b3f5\",\n",
            "                \"sha256:f60021ec1574e56632be2a36b946f8143bf4e5e6af4a06d85281adc22938e0dd\",\n",
            "                \"sha256:f7284ade780084d94505632241bf78c44ab3b6f1e8ccab3d2af58e0e950f9c12\",\n",
            "                \"sha256:f763897fe92d0e903aa4847b0aec0e68cadfff77e8a0687cabd946c89d17e675\",\n",
            "                \"sha256:f8b0ccd4a902836493e026c03256e8b206656f91fbcc4fde28c57a5b752561f1\",\n",
            "                \"sha256:f932a02c3f4956dfb981391ab24bda1dbd90fe3d628e4b42caef3e041c67707a\"\n",
            "            ],\n",
            "            \"index\": \"pypi\",\n",
            "            \"markers\": \"python_version >= '3.9'\",\n",
            "            \"version\": \"==1.5.2\"\n",
            "        },\n",
            "        \"scipy\": {\n",
            "            \"hashes\": [\n",
            "                \"sha256:0c2f95de3b04e26f5f3ad5bb05e74ba7f68b837133a4492414b3afd79dfe540e\",\n",
            "                \"sha256:1729560c906963fc8389f6aac023739ff3983e727b1a4d87696b7bf108316a79\",\n",
            "                \"sha256:278266012eb69f4a720827bdd2dc54b2271c97d84255b2faaa8f161a158c3b37\",\n",
            "                \"sha256:2843f2d527d9eebec9a43e6b406fb7266f3af25a751aa91d62ff416f54170bc5\",\n",
            "                \"sha256:2da0469a4ef0ecd3693761acbdc20f2fdeafb69e6819cc081308cc978153c675\",\n",
            "                \"sha256:2ff0a7e01e422c15739ecd64432743cf7aae2b03f3084288f399affcefe5222d\",\n",
            "                \"sha256:2ff38e22128e6c03ff73b6bb0f85f897d2362f8c052e3b8ad00532198fbdae3f\",\n",
            "                \"sha256:30ac8812c1d2aab7131a79ba62933a2a76f582d5dbbc695192453dae67ad6310\",\n",
            "                \"sha256:3a1b111fac6baec1c1d92f27e76511c9e7218f1695d61b59e05e0fe04dc59617\",\n",
            "                \"sha256:4079b90df244709e675cdc8b93bfd8a395d59af40b72e339c2287c91860deb8e\",\n",
            "                \"sha256:5149e3fd2d686e42144a093b206aef01932a0059c2a33ddfa67f5f035bdfe13e\",\n",
            "                \"sha256:5a275584e726026a5699459aa72f828a610821006228e841b94275c4a7c08417\",\n",
            "                \"sha256:631f07b3734d34aced009aaf6fedfd0eb3498a97e581c3b1e5f14a04164a456d\",\n",
            "                \"sha256:716e389b694c4bb564b4fc0c51bc84d381735e0d39d3f26ec1af2556ec6aad94\",\n",
            "                \"sha256:8426251ad1e4ad903a4514712d2fa8fdd5382c978010d1c6f5f37ef286a713ad\",\n",
            "                \"sha256:8475230e55549ab3f207bff11ebfc91c805dc3463ef62eda3ccf593254524ce8\",\n",
            "                \"sha256:8bddf15838ba768bb5f5083c1ea012d64c9a444e16192762bd858f1e126196d0\",\n",
            "                \"sha256:8e32dced201274bf96899e6491d9ba3e9a5f6b336708656466ad0522d8528f69\",\n",
            "                \"sha256:8f9ea80f2e65bdaa0b7627fb00cbeb2daf163caa015e59b7516395fe3bd1e066\",\n",
            "                \"sha256:97c5dddd5932bd2a1a31c927ba5e1463a53b87ca96b5c9bdf5dfd6096e27efc3\",\n",
            "                \"sha256:a49f6ed96f83966f576b33a44257d869756df6cf1ef4934f59dd58b25e0327e5\",\n",
            "                \"sha256:af29a935803cc707ab2ed7791c44288a682f9c8107bc00f0eccc4f92c08d6e07\",\n",
            "                \"sha256:b05d43735bb2f07d689f56f7b474788a13ed8adc484a85aa65c0fd931cf9ccd2\",\n",
            "                \"sha256:b28d2ca4add7ac16ae8bb6632a3c86e4b9e4d52d3e34267f6e1b0c1f8d87e389\",\n",
            "                \"sha256:b99722ea48b7ea25e8e015e8341ae74624f72e5f21fc2abd45f3a93266de4c5d\",\n",
            "                \"sha256:baff393942b550823bfce952bb62270ee17504d02a1801d7fd0719534dfb9c84\",\n",
            "                \"sha256:c0ee987efa6737242745f347835da2cc5bb9f1b42996a4d97d5c7ff7928cb6f2\",\n",
            "                \"sha256:d0d2821003174de06b69e58cef2316a6622b60ee613121199cb2852a873f8cf3\",\n",
            "                \"sha256:e0cf28db0f24a38b2a0ca33a85a54852586e43cf6fd876365c86e0657cfe7d73\",\n",
            "                \"sha256:e4f5a7c49323533f9103d4dacf4e4f07078f360743dec7f7596949149efeec06\",\n",
            "                \"sha256:eb58ca0abd96911932f688528977858681a59d61a7ce908ffd355957f7025cfc\",\n",
            "                \"sha256:edaf02b82cd7639db00dbff629995ef185c8df4c3ffa71a5562a595765a06ce1\",\n",
            "                \"sha256:fef8c87f8abfb884dac04e97824b61299880c43f4ce675dd2cbeadd3c9b466d2\"\n",
            "            ],\n",
            "            \"markers\": \"python_version >= '3.10'\",\n",
            "            \"version\": \"==1.14.1\"\n",
            "        },\n",
            "        \"threadpoolctl\": {\n",
            "            \"hashes\": [\n",
            "                \"sha256:082433502dd922bf738de0d8bcc4fdcbf0979ff44c42bd40f5af8a282f6fa107\",\n",
            "                \"sha256:56c1e26c150397e58c4926da8eeee87533b1e32bef131bd4bf6a2f45f3185467\"\n",
            "            ],\n",
            "            \"markers\": \"python_version >= '3.8'\",\n",
            "            \"version\": \"==3.5.0\"\n",
            "        }\n",
            "    },\n",
            "    \"develop\": {}\n",
            "}\n",
            "\n"
          ]
        }
      ]
    },
    {
      "cell_type": "markdown",
      "source": [
        "#Models\n",
        "We've prepared a dictionary vectorizer and a model.\n",
        "\n",
        "They were trained (roughly) using this code:\n",
        "```\n",
        "features = ['job', 'duration', 'poutcome']\n",
        "dicts = df[features].to_dict(orient='records')\n",
        "\n",
        "dv = DictVectorizer(sparse=False)\n",
        "X = dv.fit_transform(dicts)\n",
        "\n",
        "model = LogisticRegression().fit(X, y)\n",
        "```\n",
        ">Note: You don't need to train the model. This code is just for your reference.\n",
        "\n",
        "And then saved with Pickle. Download them:\n",
        "\n",
        "+ [DictVectorizer](https://github.com/DataTalksClub/machine-learning-zoomcamp/blob/master/cohorts/2024/05-deployment/homework/dv.bin)\n",
        "+ [LogisticRegression](https://github.com/DataTalksClub/machine-learning-zoomcamp/blob/master/cohorts/2024/05-deployment/homework/model1.bin)\n",
        "\n",
        "With wget:\n",
        "```\n",
        "PREFIX=\"https://raw.githubusercontent.com/DataTalksClub/machine-learning-zoomcamp/master/cohorts/2024/05-deployment/homework\"\n",
        "!wget $PREFIX/model1.bin\n",
        "!wget $PREFIX/dv.bin\n",
        "```"
      ],
      "metadata": {
        "id": "BTtI4ydqml7J"
      }
    },
    {
      "cell_type": "code",
      "source": [
        "PREFIX=\"https://raw.githubusercontent.com/DataTalksClub/machine-learning-zoomcamp/master/cohorts/2024/05-deployment/homework\"\n",
        "!wget $PREFIX/model1.bin\n",
        "!wget $PREFIX/dv.bin"
      ],
      "metadata": {
        "colab": {
          "base_uri": "https://localhost:8080/"
        },
        "id": "DEplqjOenE5v",
        "outputId": "cfe46626-17db-4ff3-eea7-502f75cc78b6"
      },
      "execution_count": null,
      "outputs": [
        {
          "output_type": "stream",
          "name": "stdout",
          "text": [
            "--2024-10-28 21:02:51--  https://raw.githubusercontent.com/DataTalksClub/machine-learning-zoomcamp/master/cohorts/2024/05-deployment/homework/model1.bin\n",
            "Resolving raw.githubusercontent.com (raw.githubusercontent.com)... 185.199.108.133, 185.199.109.133, 185.199.110.133, ...\n",
            "Connecting to raw.githubusercontent.com (raw.githubusercontent.com)|185.199.108.133|:443... connected.\n",
            "HTTP request sent, awaiting response... 200 OK\n",
            "Length: 850 [application/octet-stream]\n",
            "Saving to: ‘model1.bin.1’\n",
            "\n",
            "\rmodel1.bin.1          0%[                    ]       0  --.-KB/s               \rmodel1.bin.1        100%[===================>]     850  --.-KB/s    in 0s      \n",
            "\n",
            "2024-10-28 21:02:51 (30.3 MB/s) - ‘model1.bin.1’ saved [850/850]\n",
            "\n",
            "--2024-10-28 21:02:51--  https://raw.githubusercontent.com/DataTalksClub/machine-learning-zoomcamp/master/cohorts/2024/05-deployment/homework/dv.bin\n",
            "Resolving raw.githubusercontent.com (raw.githubusercontent.com)... 185.199.108.133, 185.199.109.133, 185.199.110.133, ...\n",
            "Connecting to raw.githubusercontent.com (raw.githubusercontent.com)|185.199.108.133|:443... connected.\n",
            "HTTP request sent, awaiting response... 200 OK\n",
            "Length: 560 [application/octet-stream]\n",
            "Saving to: ‘dv.bin.1’\n",
            "\n",
            "dv.bin.1            100%[===================>]     560  --.-KB/s    in 0s      \n",
            "\n",
            "2024-10-28 21:02:51 (29.0 MB/s) - ‘dv.bin.1’ saved [560/560]\n",
            "\n"
          ]
        }
      ]
    },
    {
      "cell_type": "markdown",
      "source": [
        "# Question 3\n",
        "Let's use these models!\n",
        "\n",
        "+ Write a script for loading these models with pickle\n",
        "+ Score this client:\n",
        "`{\"job\": \"management\", \"duration\": 400, \"poutcome\": \"success\"}`\n",
        "\n",
        "What's the probability that this client will get a subscription?\n",
        "\n",
        "+ 0.359\n",
        "+ 0.559\n",
        "+ 0.759\n",
        "+ 0.959\n",
        "\n",
        "If you're getting errors when unpickling the files, check their checksum:\n",
        "```\n",
        "!md5sum model1.bin dv.bin\n",
        "\n",
        "3d8bb28974e55edefa000fe38fd3ed12  model1.bin\n",
        "7d37616e00aa80f2152b8b0511fc2dff  dv.bin\n",
        "```"
      ],
      "metadata": {
        "id": "TvphQo6npm2X"
      }
    },
    {
      "cell_type": "code",
      "source": [
        "import pickle\n",
        "\n",
        "def predict_subcription_proba(customer, dv, model):\n",
        "    X_customer = dv.transform(customer)\n",
        "    return model.predict_proba(X_customer)[:, 1]\n",
        "\n",
        "with open('model1.bin', 'rb') as f_in:\n",
        "    model = pickle.load(f_in)\n",
        "\n",
        "with open('dv.bin', 'rb') as f_in:\n",
        "    dv = pickle.load(f_in)\n",
        "\n",
        "customer = {\"job\": \"management\", \"duration\": 400, \"poutcome\": \"success\"}\n",
        "\n",
        "y_pred_customer = predict_subcription_proba(customer, dv, model)\n",
        "y_pred_customer"
      ],
      "metadata": {
        "colab": {
          "base_uri": "https://localhost:8080/"
        },
        "id": "gzhEXW04p5Ry",
        "outputId": "662e391a-1f43-43a0-d664-2d7881c975a8"
      },
      "execution_count": null,
      "outputs": [
        {
          "output_type": "execute_result",
          "data": {
            "text/plain": [
              "array([0.75909665])"
            ]
          },
          "metadata": {},
          "execution_count": 5
        }
      ]
    },
    {
      "cell_type": "markdown",
      "source": [
        "# Question 4\n",
        "Now let's serve this model as a web service\n",
        "\n",
        "+ Install Flask and gunicorn (or waitress, if you're on Windows)\n",
        "+ Write Flask code for serving the model\n",
        "+ Now score this client using `requests`:\n",
        "```\n",
        "url = \"YOUR_URL\"\n",
        "client = {\"job\": \"student\", \"duration\": 280, \"poutcome\": \"failure\"}\n",
        "requests.post(url, json=client).json()\n",
        "```\n",
        "What's the probability that this client will get a subscription?\n",
        "\n",
        "+ 0.335\n",
        "+ 0.535\n",
        "+ 0.735\n",
        "+ 0.935"
      ],
      "metadata": {
        "id": "JjV9J_6Xtfia"
      }
    },
    {
      "cell_type": "code",
      "source": [
        "from flask import Flask, request, jsonify\n",
        "import threading\n",
        "\n",
        "app = Flask('subscription')\n",
        "\n",
        "\n",
        "@app.route('/predict', methods=['POST'])\n",
        "def predict():\n",
        " customer = request.get_json()\n",
        " prediction = predict_subcription_proba(customer, dv, model)\n",
        "\n",
        " result = {'subscription_probability': float(prediction[0])}\n",
        " return jsonify(result)\n",
        "\n",
        "threading.Thread(target=app.run, kwargs={'host':'0.0.0.0','port':9695}).start()"
      ],
      "metadata": {
        "id": "u8wTbhXovpe0"
      },
      "execution_count": null,
      "outputs": []
    },
    {
      "cell_type": "code",
      "source": [
        "import requests\n",
        "url = \"http://172.28.0.12:9695/predict\"\n",
        "customer = {\"job\": \"student\", \"duration\": 280, \"poutcome\": \"failure\"}\n",
        "response = requests.post(url, json=customer)\n",
        "response.json()"
      ],
      "metadata": {
        "colab": {
          "base_uri": "https://localhost:8080/"
        },
        "id": "Uwf11Tp77Qud",
        "outputId": "d8026d48-df7f-418a-c0ec-7bbd8b21a217"
      },
      "execution_count": null,
      "outputs": [
        {
          "output_type": "stream",
          "name": "stdout",
          "text": [
            " * Serving Flask app 'subscription'\n",
            " * Debug mode: off\n"
          ]
        },
        {
          "output_type": "stream",
          "name": "stderr",
          "text": [
            "INFO:werkzeug:\u001b[31m\u001b[1mWARNING: This is a development server. Do not use it in a production deployment. Use a production WSGI server instead.\u001b[0m\n",
            " * Running on all addresses (0.0.0.0)\n",
            " * Running on http://127.0.0.1:9695\n",
            " * Running on http://172.28.0.12:9695\n",
            "INFO:werkzeug:\u001b[33mPress CTRL+C to quit\u001b[0m\n",
            "INFO:werkzeug:172.28.0.12 - - [28/Oct/2024 21:02:55] \"POST /predict HTTP/1.1\" 200 -\n"
          ]
        },
        {
          "output_type": "execute_result",
          "data": {
            "text/plain": [
              "{'subscription_probability': 0.33480703475511053}"
            ]
          },
          "metadata": {},
          "execution_count": 7
        }
      ]
    },
    {
      "cell_type": "markdown",
      "source": [
        "# Docker\n",
        "Install [Docker](https://github.com/DataTalksClub/machine-learning-zoomcamp/blob/master/05-deployment/06-docker.md). We will use it for the next two questions.\n",
        "\n",
        "For these questions, we prepared a base image: `svizor/zoomcamp-model:3.11.5-slim`. You'll need to use it (see Question 5 for an example).\n",
        "\n",
        "This image is based on `python:3.11.5-slim` and has a logistic regression model (a different one) as well a dictionary vectorizer inside.\n",
        "\n",
        "This is how the Dockerfile for this image looks like:\n",
        "```\n",
        "FROM python:3.11.5-slim\n",
        "WORKDIR /app\n",
        "COPY [\"model2.bin\", \"dv.bin\", \"./\"]\n",
        "```\n",
        "We already built it and then pushed it to [svizor/zoomcamp-model:3.11.5-slim](https://hub.docker.com/r/svizor/zoomcamp-model).\n",
        "\n",
        "> Note: You don't need to build this docker image, it's just for your reference."
      ],
      "metadata": {
        "id": "aCxErJHq-aqe"
      }
    },
    {
      "cell_type": "code",
      "source": [
        "# Copyright 2024 Drengskapur\n",
        "#\n",
        "# Licensed under the Apache License, Version 2.0 (the \"License\");\n",
        "# you may not use this file except in compliance with the License.\n",
        "# You may obtain a copy of the License at\n",
        "#\n",
        "#     http://www.apache.org/licenses/LICENSE-2.0\n",
        "#\n",
        "# Unless required by applicable law or agreed to in writing, software\n",
        "# distributed under the License is distributed on an \"AS IS\" BASIS,\n",
        "# WITHOUT WARRANTIES OR CONDITIONS OF ANY KIND, either express or implied.\n",
        "# See the License for the specific language governing permissions and\n",
        "# limitations under the License.\n",
        "#\n",
        "# @title {display-mode:\"form\"}\n",
        "# @markdown <br/><br/><center><img src=\"https://cdn.jsdelivr.net/gh/drengskapur/docker-in-colab/assets/docker.svg\" height=\"150\"><img src=\"https://cdn.jsdelivr.net/gh/drengskapur/docker-in-colab/assets/colab.svg\" height=\"150\"></center><br/>\n",
        "# @markdown <center><h1>Docker in Colab</h1></center><center>github.com/drengskapur/docker-in-colab<br/><br/><br/><b>udocker(\"run hello-world\")</b></center><br/>\n",
        "def udocker_init():\n",
        "    import os\n",
        "    if not os.path.exists(\"/home/user\"):\n",
        "        !pip install udocker > /dev/null\n",
        "        !udocker --allow-root install > /dev/null\n",
        "        !useradd -m user > /dev/null\n",
        "    print(f'Docker-in-Colab 1.1.0\\n')\n",
        "    print(f'Usage:     udocker(\"--help\")')\n",
        "    print(f'Examples:  https://github.com/indigo-dc/udocker?tab=readme-ov-file#examples')\n",
        "\n",
        "    def execute(command: str):\n",
        "        user_prompt = \"\\033[1;32muser@pc\\033[0m\"\n",
        "        print(f\"{user_prompt}$ udocker {command}\")\n",
        "        !su - user -c \"udocker $command\"\n",
        "\n",
        "    return execute\n",
        "\n",
        "udocker = udocker_init()"
      ],
      "metadata": {
        "colab": {
          "base_uri": "https://localhost:8080/"
        },
        "id": "pU8MEwG5A3Jw",
        "outputId": "93c690e4-9cb3-49e6-a6e0-a4160bbd8445"
      },
      "execution_count": null,
      "outputs": [
        {
          "output_type": "stream",
          "name": "stdout",
          "text": [
            "Docker-in-Colab 1.1.0\n",
            "\n",
            "Usage:     udocker(\"--help\")\n",
            "Examples:  https://github.com/indigo-dc/udocker?tab=readme-ov-file#examples\n"
          ]
        }
      ]
    },
    {
      "cell_type": "code",
      "source": [
        "udocker(\"pull svizor/zoomcamp-model:3.11.5-slim\")"
      ],
      "metadata": {
        "colab": {
          "base_uri": "https://localhost:8080/"
        },
        "id": "cBLHJzZHA_vb",
        "outputId": "e2ce75f2-31ef-43c8-bf96-f10e6fe49ec1"
      },
      "execution_count": null,
      "outputs": [
        {
          "output_type": "stream",
          "name": "stdout",
          "text": [
            "\u001b[1;32muser@pc\u001b[0m$ udocker pull svizor/zoomcamp-model:3.11.5-slim\n",
            "Info: downloading layer sha256:975e7bdca0869838298ca80e048a42da30cc5cec45b2d9bbd66716f53d411ac3\n",
            "Info: downloading layer sha256:4e69cd59a5afce089bba514b14081b05ba6c2888a4ffe1378977127fc7b8db0e\n",
            "Info: downloading layer sha256:fb37f8d7a667571f60eb276179a3a77e33167be1089aedde29d55e276c27002a\n",
            "Info: downloading layer sha256:0358d4e17ae3acc657f1a723b870b99fe04ce433425a02632d619c17775bf7c3\n",
            "Info: downloading layer sha256:a2cee97f4fbd9f436f5be78402ce82bbab4271b38ef3b40a5549add5fb4fac21\n",
            "Info: downloading layer sha256:eb76b60fbb0cfba1dcb66b4ab0d496630bc4c46c6ad9ce80976d815ef565e524\n",
            "Info: downloading layer sha256:bf3336e84c8e00632cdea35b18fec9a5691711bdc8ac885e3ef54a3d5ff500ba\n",
            "Info: downloading layer sha256:a803e7c4b030119420574a882a52b6431e160fceb7620f61b525d49bc2d58886\n"
          ]
        }
      ]
    },
    {
      "cell_type": "markdown",
      "source": [
        "# Question 5\n",
        "Download the base image `svizor/zoomcamp-model:3.11.5-slim`. You can easily make it by using [docker pull](https://docs.docker.com/reference/cli/docker/image/pull/) command.\n",
        "\n",
        "So what's the size of this base image?\n",
        "\n",
        "+ 45 MB\n",
        "+ 130 MB\n",
        "+ 245 MB\n",
        "+ 330 MB\n",
        "\n",
        "You can get this information when running docker images - it'll be in the \"SIZE\" column."
      ],
      "metadata": {
        "id": "x5VmXLB8CXn_"
      }
    },
    {
      "cell_type": "code",
      "source": [
        "udocker(\"create svizor/zoomcamp-model:3.11.5-slim\")\n",
        "udocker(\"ps -m -s\")"
      ],
      "metadata": {
        "colab": {
          "base_uri": "https://localhost:8080/"
        },
        "id": "tbTpazTxBejI",
        "outputId": "bc686958-93a0-48ea-acac-cba0e5935ef7"
      },
      "execution_count": null,
      "outputs": [
        {
          "output_type": "stream",
          "name": "stdout",
          "text": [
            "\u001b[1;32muser@pc\u001b[0m$ udocker create svizor/zoomcamp-model:3.11.5-slim\n",
            "5d449e14-4cc9-39c9-bc32-eeaac9965946\n",
            "\u001b[1;32muser@pc\u001b[0m$ udocker ps -m -s\n",
            "CONTAINER ID                         P M MOD SIZE NAMES              IMAGE               \n",
            "1c6a9c5c-54e9-33fc-bfc7-19bb63034982 . W P1   137                    svizor/zoomcamp-model:3.11.5-slim\n",
            "397ef047-c109-3e5c-8505-4613801bccdc . W P1   553                    aletbm/subscription_serving:v1.0\n",
            "5d449e14-4cc9-39c9-bc32-eeaac9965946 . W P1   137                    svizor/zoomcamp-model:3.11.5-slim\n",
            "4dc04706-d27a-3509-af14-86ec4452a607 . W P1    -1                    aletbm/subscription_serving:latest\n"
          ]
        }
      ]
    },
    {
      "cell_type": "markdown",
      "source": [
        "# Dockerfile\n",
        "Now create your own Dockerfile based on the image we prepared.\n",
        "\n",
        "It should start like that:\n",
        "```\n",
        "FROM svizor/zoomcamp-model:3.11.5-slim\n",
        "# add your stuff here\n",
        "```\n",
        "Now complete it:\n",
        "\n",
        "+ Install all the dependencies form the Pipenv file\n",
        "+ Copy your Flask script\n",
        "+ Run it with Gunicorn\n",
        "\n",
        "After that, you can build your docker image."
      ],
      "metadata": {
        "id": "5rTjd5KZCiVP"
      }
    },
    {
      "cell_type": "code",
      "source": [
        "udocker(\"pull aletbm/subscription_serving:v1.0\")"
      ],
      "metadata": {
        "colab": {
          "base_uri": "https://localhost:8080/"
        },
        "id": "dYuzdHU2DcYC",
        "outputId": "f6f4c46e-f7e1-42ee-d583-d61bda22bb05"
      },
      "execution_count": null,
      "outputs": [
        {
          "output_type": "stream",
          "name": "stdout",
          "text": [
            "\u001b[1;32muser@pc\u001b[0m$ udocker pull aletbm/subscription_serving:v1.0\n",
            "Info: downloading layer sha256:71696b2e50c1f0c34f7469c31437f5935e954aa63ad8775e20ea544e02690e2b\n",
            "Info: downloading layer sha256:feba3ad9d1b5f3b87b7652fd432b24b14f190ace6ad79a46fbcb81bd0c053527\n",
            "Info: downloading layer sha256:b63079b2dc9dba4792041b8b840065fc7f485f9f26f3455a8c80642967fa90ac\n",
            "Info: downloading layer sha256:78c24d36c55bf9792bcc41dd8e310eee23b398a0acb1c1cb9f059fc14070258c\n",
            "Info: downloading layer sha256:f985cf33cd5b4b7732999fc40fc4d05ab349e0e28dec05925125546b7f976e93\n",
            "Info: downloading layer sha256:4f4fb700ef54461cfa02571ae0db9a0dc1e0cdb5577484a6d75e68dc38e8acc1\n",
            "Info: downloading layer sha256:d8e2e0cc902ca86438908f28b395424796440473890ad6a146cef007b432b9fb\n",
            "Info: downloading layer sha256:4e69cd59a5afce089bba514b14081b05ba6c2888a4ffe1378977127fc7b8db0e\n",
            "Info: downloading layer sha256:fb37f8d7a667571f60eb276179a3a77e33167be1089aedde29d55e276c27002a\n",
            "Info: downloading layer sha256:0358d4e17ae3acc657f1a723b870b99fe04ce433425a02632d619c17775bf7c3\n",
            "Info: downloading layer sha256:a2cee97f4fbd9f436f5be78402ce82bbab4271b38ef3b40a5549add5fb4fac21\n",
            "Info: downloading layer sha256:eb76b60fbb0cfba1dcb66b4ab0d496630bc4c46c6ad9ce80976d815ef565e524\n",
            "Info: downloading layer sha256:bf3336e84c8e00632cdea35b18fec9a5691711bdc8ac885e3ef54a3d5ff500ba\n",
            "Info: downloading layer sha256:a803e7c4b030119420574a882a52b6431e160fceb7620f61b525d49bc2d58886\n"
          ]
        }
      ]
    },
    {
      "cell_type": "code",
      "source": [
        "udocker(\"create aletbm/subscription_serving:v1.0\")"
      ],
      "metadata": {
        "colab": {
          "base_uri": "https://localhost:8080/"
        },
        "id": "kVyQReWS3TOe",
        "outputId": "12b85c0d-5c0b-461e-d1c2-f6e82208b7e7"
      },
      "execution_count": null,
      "outputs": [
        {
          "output_type": "stream",
          "name": "stdout",
          "text": [
            "\u001b[1;32muser@pc\u001b[0m$ udocker create aletbm/subscription_serving:v1.0\n",
            "a7274cf3-13b4-34c9-8e33-92d0c53dd754\n"
          ]
        }
      ]
    },
    {
      "cell_type": "code",
      "source": [
        "threading.Thread(target=udocker, kwargs={'command':\"run aletbm/subscription_serving:latest\"}).start()"
      ],
      "metadata": {
        "colab": {
          "base_uri": "https://localhost:8080/"
        },
        "id": "lh1YXyTs3Wk7",
        "outputId": "f9b241c3-d37f-427e-8789-0341f277a705"
      },
      "execution_count": null,
      "outputs": [
        {
          "output_type": "stream",
          "name": "stdout",
          "text": [
            "\u001b[1;32muser@pc\u001b[0m$ udocker run aletbm/subscription_serving:latest\n"
          ]
        }
      ]
    },
    {
      "cell_type": "markdown",
      "source": [
        "# Question 6\n",
        "Let's run your docker container!\n",
        "\n",
        "After running it, score this client once again:\n",
        "```\n",
        "url = \"YOUR_URL\"\n",
        "client = {\"job\": \"management\", \"duration\": 400, \"poutcome\": \"success\"}\n",
        "requests.post(url, json=client).json()\n",
        "```\n",
        "What's the probability that this client will get a subscription now?\n",
        "\n",
        "+ 0.287\n",
        "+ 0.530\n",
        "+ 0.757\n",
        "+ 0.960"
      ],
      "metadata": {
        "id": "rr66eP7mCu5g"
      }
    },
    {
      "cell_type": "code",
      "source": [
        "url = \"http://172.28.0.12:9696/predict\"\n",
        "customer = {\"job\": \"management\", \"duration\": 400, \"poutcome\": \"success\"}\n",
        "response = requests.post(url, json=customer)\n",
        "response.json()"
      ],
      "metadata": {
        "colab": {
          "base_uri": "https://localhost:8080/"
        },
        "id": "k4nC2b-C6kTB",
        "outputId": "aeb7466e-ec7f-4e60-ca34-8565f6cbbd12"
      },
      "execution_count": null,
      "outputs": [
        {
          "output_type": "execute_result",
          "data": {
            "text/plain": [
              "{'subscription_probability': 0.7590966516879658}"
            ]
          },
          "metadata": {},
          "execution_count": 14
        }
      ]
    }
  ]
}